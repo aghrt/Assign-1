{
  "nbformat": 4,
  "nbformat_minor": 0,
  "metadata": {
    "colab": {
      "name": "Untitled1.ipynb",
      "provenance": [],
      "authorship_tag": "ABX9TyMlTk0v/qTfS6HT3Ci3pgxX",
      "include_colab_link": true
    },
    "kernelspec": {
      "name": "python3",
      "display_name": "Python 3"
    },
    "language_info": {
      "name": "python"
    }
  },
  "cells": [
    {
      "cell_type": "markdown",
      "metadata": {
        "id": "view-in-github",
        "colab_type": "text"
      },
      "source": [
        "<a href=\"https://colab.research.google.com/github/aghrt/Assign-1/blob/main/Untitled1.ipynb\" target=\"_parent\"><img src=\"https://colab.research.google.com/assets/colab-badge.svg\" alt=\"Open In Colab\"/></a>"
      ]
    },
    {
      "cell_type": "code",
      "metadata": {
        "colab": {
          "base_uri": "https://localhost:8080/"
        },
        "id": "O2wgdr6JY34m",
        "outputId": "ac77529d-238c-4633-8fc3-bbaa81773c09"
      },
      "source": [
        "# Assing 4\n",
        "#person list = [2,1,5,3,4]\n",
        "# 2-1 2-1 3-5 4-3 5-4 order of the person who gives the gift - person who receives it\n",
        "gave_gift = {1 : 2, 2 : 1, 5 : 4, 3 : 5, 4 : 3}\n",
        "#people who receive the gift\n",
        "print(gave_gift.values())\n"
      ],
      "execution_count": 2,
      "outputs": [
        {
          "output_type": "stream",
          "text": [
            "dict_values([2, 1, 4, 5, 3])\n"
          ],
          "name": "stdout"
        }
      ]
    }
  ]
}