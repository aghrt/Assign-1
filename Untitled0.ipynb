{
  "nbformat": 4,
  "nbformat_minor": 0,
  "metadata": {
    "colab": {
      "name": "Untitled0.ipynb",
      "provenance": [],
      "authorship_tag": "ABX9TyNtLtnTtj3yqqt7+/FOO554",
      "include_colab_link": true
    },
    "kernelspec": {
      "name": "python3",
      "display_name": "Python 3"
    },
    "language_info": {
      "name": "python"
    }
  },
  "cells": [
    {
      "cell_type": "markdown",
      "metadata": {
        "id": "view-in-github",
        "colab_type": "text"
      },
      "source": [
        "<a href=\"https://colab.research.google.com/github/aghrt/Assign-1/blob/main/Untitled0.ipynb\" target=\"_parent\"><img src=\"https://colab.research.google.com/assets/colab-badge.svg\" alt=\"Open In Colab\"/></a>"
      ]
    },
    {
      "cell_type": "code",
      "metadata": {
        "colab": {
          "base_uri": "https://localhost:8080/"
        },
        "id": "Zg1C4eHYhVqf",
        "outputId": "7b864a89-67c2-4105-f73e-3d3f6aba2556"
      },
      "source": [
        "# to check whether a string is pangram\n",
        "import string \n",
        "def ispangram(str):\n",
        "  alp = \"ascii_lowercase\"\n",
        "  for char in alp:\n",
        "    if char not in str.lower():\n",
        "      return False\n",
        "  return True\n",
        "\n",
        "string = 'checking if its pangram'\n",
        "if(ispangram(string) == True):\n",
        "  print(\"Yes\")\n",
        "else:\n",
        "  print(\"No\")     \n",
        "\n",
        "  "
      ],
      "execution_count": 7,
      "outputs": [
        {
          "output_type": "stream",
          "text": [
            "No\n"
          ],
          "name": "stdout"
        }
      ]
    },
    {
      "cell_type": "code",
      "metadata": {
        "colab": {
          "base_uri": "https://localhost:8080/"
        },
        "id": "GxcCudb2kzTl",
        "outputId": "ee1fbeaf-4180-4813-f1a4-c6f238612340"
      },
      "source": [
        "# Remove all the occurences of an element from the list\n",
        "l = [1,1,2,3,1,4,5,6]\n",
        "list(filter(lambda a:a != 1, l))\n"
      ],
      "execution_count": 17,
      "outputs": [
        {
          "output_type": "execute_result",
          "data": {
            "text/plain": [
              "[2, 3, 4, 5, 6]"
            ]
          },
          "metadata": {
            "tags": []
          },
          "execution_count": 17
        }
      ]
    },
    {
      "cell_type": "code",
      "metadata": {
        "colab": {
          "base_uri": "https://localhost:8080/"
        },
        "id": "AFoa4V86pdTu",
        "outputId": "c55f5624-fffd-4daf-bbf7-8465b641abcf"
      },
      "source": [
        "#Project (otp generation)\n",
        "import random as r\n",
        "import string \n",
        "length = 6 \n",
        "char = string.ascii_letters + string.digits\n",
        "print(char)\n",
        "# to make 6 digit otp\n",
        "otp = ''\n",
        "for i in range(length):\n",
        "  otp = otp + r.choice(char)\n",
        "print(\"OTP:\", otp)  \n",
        "  "
      ],
      "execution_count": 19,
      "outputs": [
        {
          "output_type": "stream",
          "text": [
            "abcdefghijklmnopqrstuvwxyzABCDEFGHIJKLMNOPQRSTUVWXYZ0123456789\n",
            "OTP: ERDFfh\n"
          ],
          "name": "stdout"
        }
      ]
    }
  ]
}